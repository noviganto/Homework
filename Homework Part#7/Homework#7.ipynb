{
 "cells": [
  {
   "cell_type": "markdown",
   "id": "15c69faa",
   "metadata": {},
   "source": [
    "### Task#1\n",
    "https://leetcode.com/problems/fibonacci-number/"
   ]
  },
  {
   "cell_type": "code",
   "execution_count": 6,
   "id": "8b2b4086",
   "metadata": {},
   "outputs": [],
   "source": [
    "class Solution:\n",
    "    def fib(self, n: int) -> int:\n",
    "        if n == 0:\n",
    "            return 0\n",
    "        if n == 1:\n",
    "            return 1\n",
    "        return self.fib(n - 1) + self.fib(n - 2)"
   ]
  },
  {
   "cell_type": "markdown",
   "id": "180abaf0",
   "metadata": {},
   "source": [
    "### Task#2\n",
    "https://leetcode.com/problems/power-of-three/"
   ]
  },
  {
   "cell_type": "code",
   "execution_count": 22,
   "id": "a0feb86f",
   "metadata": {},
   "outputs": [],
   "source": [
    "class Solution:\n",
    "    def isPowerOfThree(self, n: int) -> bool:\n",
    "        if n == 3 or n == 1:\n",
    "            return True\n",
    "        if n < 3 or n % 3 != 0:\n",
    "            return False\n",
    "        return self.isPowerOfThree(n//3)"
   ]
  },
  {
   "cell_type": "markdown",
   "id": "5be5127c",
   "metadata": {},
   "source": [
    "### Task#3\n",
    "https://leetcode.com/problems/reverse-string/"
   ]
  },
  {
   "cell_type": "code",
   "execution_count": null,
   "id": "53b36033",
   "metadata": {},
   "outputs": [],
   "source": [
    "class Solution:\n",
    "    def additional_func(self, left, right, st):\n",
    "        buff = st[left]\n",
    "        st[left] = st[right]\n",
    "        st[right] = buff\n",
    "        if left == right or left + 1 == right:\n",
    "            return\n",
    "        self.additional_func(left + 1, right - 1, st)\n",
    "\n",
    "\n",
    "    def reverseString(self, s: List[str]) -> None:\n",
    "        self.additional_func(0, len(s) - 1, s)\n",
    "        return\n",
    "    "
   ]
  },
  {
   "cell_type": "markdown",
   "id": "7c52e4e1",
   "metadata": {},
   "source": [
    "### Task#4\n",
    "https://leetcode.com/problems/binary-search/"
   ]
  },
  {
   "cell_type": "code",
   "execution_count": null,
   "id": "fbfe139e",
   "metadata": {},
   "outputs": [],
   "source": [
    "class Solution:\n",
    "    def additional_func(self, i, numlist, targ, stop):\n",
    "        if numlist[i] == targ:\n",
    "            return i\n",
    "        elif i == stop:\n",
    "            return -1\n",
    "\n",
    "        return self.additional_func(i + 1, numlist, targ, stop)\n",
    "        \n",
    "            \n",
    "\n",
    "    def search(self, nums: List[int], target: int) -> int:\n",
    "        return self.additional_func(0, nums, target, len(nums) - 1)"
   ]
  },
  {
   "cell_type": "markdown",
   "id": "b12e06d5",
   "metadata": {},
   "source": [
    "### Task#5\n",
    "https://leetcode.com/problems/search-insert-position/"
   ]
  },
  {
   "cell_type": "code",
   "execution_count": null,
   "id": "1b196a02",
   "metadata": {},
   "outputs": [],
   "source": [
    "class Solution:\n",
    "\n",
    "    def additional_func(self, i, numlist, targ, stop):\n",
    "        if numlist[i] == targ:\n",
    "            return i\n",
    "        elif numlist[i] > targ:\n",
    "            return i\n",
    "        elif i == stop:\n",
    "            return stop + 1\n",
    "\n",
    "        return self.additional_func(i + 1, numlist, targ, stop)\n",
    "\n",
    "\n",
    "\n",
    "    def searchInsert(self, nums: List[int], target: int) -> int:\n",
    "        return self.additional_func(0, nums, target, len(nums) - 1)"
   ]
  },
  {
   "cell_type": "markdown",
   "id": "e51245dc",
   "metadata": {},
   "source": [
    "### Task#6\n",
    "https://leetcode.com/problems/first-bad-version/"
   ]
  },
  {
   "cell_type": "code",
   "execution_count": null,
   "id": "bf2e6023",
   "metadata": {},
   "outputs": [],
   "source": [
    "# The isBadVersion API is already defined for you.\n",
    "# def isBadVersion(version: int) -> bool:\n",
    "\n",
    "class Solution:\n",
    "    def additional_func(self, left, right):\n",
    "        mid = left + (right - left)//2 \n",
    "        if isBadVersion(mid) is True:\n",
    "            if isBadVersion(mid - 1) is False:\n",
    "                return mid\n",
    "            else:\n",
    "                return self.additional_func(left, mid - 1)\n",
    "        else:\n",
    "            if isBadVersion(mid + 1) is True:\n",
    "                return mid + 1\n",
    "            else:\n",
    "                return self.additional_func(mid + 1, right)\n",
    "\n",
    "            \n",
    "\n",
    "    def firstBadVersion(self, n: int) -> int:\n",
    "        return self.additional_func(0, n)\n",
    "\n",
    "\n"
   ]
  },
  {
   "cell_type": "markdown",
   "id": "72ba2372",
   "metadata": {},
   "source": [
    "### Task#7\n",
    "https://leetcode.com/problems/peak-index-in-a-mountain-array/"
   ]
  },
  {
   "cell_type": "code",
   "execution_count": null,
   "id": "6bca3dc3",
   "metadata": {},
   "outputs": [],
   "source": [
    "class Solution:\n",
    "    def additional_func(self, left, right, mas):\n",
    "        mid = left + (right - left)//2 \n",
    "        if mas[mid] > mas[mid - 1]:\n",
    "            if mas[mid + 1] <= mas[mid]:\n",
    "                return mid\n",
    "            else:\n",
    "                return self.additional_func(mid, right, mas)\n",
    "        else:\n",
    "            return self.additional_func(left, mid, mas)\n",
    "\n",
    "\n",
    "    def peakIndexInMountainArray(self, arr: List[int]) -> int:\n",
    "        return self.additional_func(0, len(arr) - 1, arr)\n",
    "\n",
    "        "
   ]
  },
  {
   "cell_type": "markdown",
   "id": "b92ccd59",
   "metadata": {},
   "source": [
    "### Task#8\n",
    "https://leetcode.com/problems/find-peak-element/"
   ]
  },
  {
   "cell_type": "code",
   "execution_count": null,
   "id": "759bed99",
   "metadata": {},
   "outputs": [],
   "source": [
    "class Solution:\n",
    "\n",
    "    def additional_func(self, left, right, mas):\n",
    "        if left == right:\n",
    "            return left\n",
    "\n",
    "        mid = left + (right - left)//2\n",
    "        \n",
    "\n",
    "        if mas[right] > mas[right - 1]:\n",
    "            return right\n",
    "        if mas[left] > mas[left + 1]:\n",
    "            return left\n",
    "\n",
    "        if mas[mid] > mas[mid - 1]:\n",
    "            if mas[mid] > mas[mid + 1]:\n",
    "                return mid\n",
    "            else:\n",
    "                return self.additional_func(mid, right, mas)\n",
    "        else:\n",
    "            return self.additional_func(left, mid, mas)\n",
    "\n",
    "\n",
    "    def findPeakElement(self, nums: List[int]) -> int:\n",
    "        return self.additional_func(0, len(nums) - 1, nums)\n"
   ]
  },
  {
   "cell_type": "markdown",
   "id": "21a6172c",
   "metadata": {},
   "source": [
    "### Task#9\n",
    "https://leetcode.com/problems/search-a-2d-matrix/"
   ]
  },
  {
   "cell_type": "code",
   "execution_count": null,
   "id": "5ee44c0e",
   "metadata": {},
   "outputs": [],
   "source": [
    "class Solution:\n",
    "    def additional_func(self, left, right, mylist, targ, count, n):\n",
    "        if count > n:\n",
    "            return False\n",
    "\n",
    "        if mylist[count][len(mylist[0]) - 1] < targ:\n",
    "            return self.additional_func(0, len(mylist[0]) - 1, mylist, targ, count + 1, n)\n",
    "        if mylist[count][0] > targ:\n",
    "            return False\n",
    "\n",
    "        mid = left + (right - left)//2\n",
    "    \n",
    "        if mylist[count][mid] == targ:\n",
    "            return True\n",
    "        elif left == right:\n",
    "            return False\n",
    "        elif mylist[count][mid] < targ:\n",
    "            return self.additional_func(mid + 1, right, mylist, targ, count, n)\n",
    "        else:\n",
    "            return self.additional_func(left - 1, mid, mylist, targ, count, n)\n",
    "\n",
    " \n",
    "    def searchMatrix(self, matrix: List[List[int]], target: int) -> bool:\n",
    "        return self.additional_func(0, len(matrix[0]) - 1, matrix, target, 0, len(matrix) - 1)\n",
    "\n"
   ]
  },
  {
   "cell_type": "markdown",
   "id": "31dfd9a2",
   "metadata": {},
   "source": [
    "### Task#10\n",
    "https://leetcode.com/problems/koko-eating-bananas/\n",
    "# (НЕ ПОЛУЧИЛОСЬ)"
   ]
  },
  {
   "cell_type": "code",
   "execution_count": 50,
   "id": "6f7e30c8",
   "metadata": {},
   "outputs": [
    {
     "name": "stdout",
     "output_type": "stream",
     "text": [
      "Время  2\n",
      "Колво  30\n",
      "15.0\n",
      "Время  1\n",
      "Колво  11\n",
      "11.0\n",
      "Время  1\n",
      "Колво  23\n",
      "23.0\n",
      "Время  1\n",
      "Колво  4\n",
      "4.0\n",
      "Время  1\n",
      "Колво  20\n",
      "20.0\n",
      "15\n"
     ]
    }
   ],
   "source": [
    "import math\n",
    "m = [30,11,23,4,20]\n",
    "h = 6\n",
    "mylist = []\n",
    "\n",
    "summ = 0\n",
    "maxim = max(m)\n",
    "\n",
    "while summ <= h:\n",
    "    for num in m:\n",
    "        summ += math.ceil(num/maxim)\n",
    "        #print('Время ', math.ceil(num/maxim))\n",
    "        #print('Колво ', num)\n",
    "        mylist.append(num/(math.ceil(num/maxim)))\n",
    "        \n",
    "    #print(\"SUM \", summ)\n",
    "    #if summ == h:\n",
    "        #ans = math.ceil(sum(mylist)/len(mylist))\n",
    "        \n",
    "    if summ > h:\n",
    "        maxim += 1\n",
    "        summ = 0\n",
    "        mylist.clear()\n",
    "        break\n",
    "        \n",
    "    maxim -= 1\n",
    "    summ = 0\n",
    "    mylist.clear()\n",
    "        \n",
    "    \n",
    "for num in m:\n",
    "    summ += math.ceil(num/maxim)\n",
    "    #print('Время ', math.ceil(num/maxim))\n",
    "    #print('Колво ', num)\n",
    "    mylist.append(num/(math.ceil(num/maxim)))\n",
    "    #print(num/(math.ceil(num/maxim)))\n",
    "    \n",
    "ans = math.ceil(sum(mylist)/len(mylist))\n",
    "#print(mylist)\n",
    "print(ans)\n"
   ]
  }
 ],
 "metadata": {
  "kernelspec": {
   "display_name": "Python 3 (ipykernel)",
   "language": "python",
   "name": "python3"
  },
  "language_info": {
   "codemirror_mode": {
    "name": "ipython",
    "version": 3
   },
   "file_extension": ".py",
   "mimetype": "text/x-python",
   "name": "python",
   "nbconvert_exporter": "python",
   "pygments_lexer": "ipython3",
   "version": "3.9.13"
  }
 },
 "nbformat": 4,
 "nbformat_minor": 5
}
