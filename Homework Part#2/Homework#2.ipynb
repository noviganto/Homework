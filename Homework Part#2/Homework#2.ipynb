{
 "cells": [
  {
   "cell_type": "markdown",
   "id": "1adbe7f5",
   "metadata": {},
   "source": [
    "# Task#1"
   ]
  },
  {
   "cell_type": "markdown",
   "id": "e0b4f962",
   "metadata": {},
   "source": [
    "Напишите функцию максимума, которая:\n",
    "1. находит максимум произвольного количества аргументов;\n",
    "2. требует минимум один аргумент на вход;\n",
    "3. ограничивает максимум произвольным отрезком [low, hi] , причем hi и low задаются как\n",
    "ключевые аргументы."
   ]
  },
  {
   "cell_type": "code",
   "execution_count": 326,
   "id": "089fabdc",
   "metadata": {},
   "outputs": [],
   "source": [
    "def maxim(a, *b, low=0, hi=10):\n",
    "    if max(b) < a:\n",
    "        main_max = a\n",
    "    else:\n",
    "        main_max = max(b)\n",
    "    \n",
    "    if low < main_max < hi:\n",
    "        return main_max\n",
    "    elif main_max <= low:\n",
    "        return low\n",
    "    elif main_max >= hi:\n",
    "        return hi\n",
    "    "
   ]
  },
  {
   "cell_type": "code",
   "execution_count": 332,
   "id": "5336453e",
   "metadata": {},
   "outputs": [
    {
     "data": {
      "text/plain": [
       "6"
      ]
     },
     "execution_count": 332,
     "metadata": {},
     "output_type": "execute_result"
    }
   ],
   "source": [
    "maxim(-9,-20,-3,-4,-5,6)"
   ]
  },
  {
   "cell_type": "markdown",
   "id": "fe58deb0",
   "metadata": {},
   "source": [
    "## Task #2\n",
    "https://leetcode.com/problems/palindrome-linked-list/"
   ]
  },
  {
   "cell_type": "code",
   "execution_count": null,
   "id": "4716a0c5",
   "metadata": {},
   "outputs": [],
   "source": [
    "# Definition for singly-linked list.\n",
    "# class ListNode:\n",
    "#     def __init__(self, val=0, next=None):\n",
    "#         self.val = val\n",
    "#         self.next = next\n",
    "class Solution:\n",
    "    def isPalindrome(self, head: Optional[ListNode]) -> bool:\n",
    "        mylist = []\n",
    "        while head != None:\n",
    "            mylist.append(head.val)\n",
    "            head = head.next\n",
    "        \n",
    "        if len(mylist) == 1:\n",
    "            return True\n",
    "        halflen = int(len(mylist)/2)\n",
    "        if len(mylist)%2 == 0:\n",
    "            if mylist[:halflen] == list(reversed(mylist[halflen:])):\n",
    "                return True\n",
    "            else:\n",
    "                return False\n",
    "        else:\n",
    "            if mylist[:halflen] == list(reversed(mylist[halflen + 1:])):\n",
    "                return True\n",
    "            else:\n",
    "                return False\n",
    "            "
   ]
  },
  {
   "cell_type": "markdown",
   "id": "7eaf586c",
   "metadata": {},
   "source": [
    "## Task#3\n",
    "https://leetcode.com/problems/middle-of-the-linked-list/"
   ]
  },
  {
   "cell_type": "code",
   "execution_count": null,
   "id": "d4710b18",
   "metadata": {},
   "outputs": [],
   "source": [
    "# Definition for singly-linked list.\n",
    "# class ListNode:\n",
    "#     def __init__(self, val=0, next=None):\n",
    "#         self.val = val\n",
    "#         self.next = next\n",
    "import math\n",
    "class Solution:\n",
    "    def middleNode(self, head: Optional[ListNode]) -> Optional[ListNode]:\n",
    "        step = head\n",
    "        halflen = 1\n",
    "        while step.next:\n",
    "            step = step.next\n",
    "            halflen = halflen + 1\n",
    "        halflen = halflen//2 + 1\n",
    "\n",
    "        step = head\n",
    "        i = 1\n",
    "        while i < halflen:\n",
    "            step = step.next\n",
    "            i = i + 1\n",
    "        return step\n",
    "    "
   ]
  },
  {
   "cell_type": "markdown",
   "id": "e7429715",
   "metadata": {},
   "source": [
    "## Task#4\n",
    "https://leetcode.com/problems/remove-duplicates-from-sorted-list/"
   ]
  },
  {
   "cell_type": "code",
   "execution_count": null,
   "id": "f2d86720",
   "metadata": {},
   "outputs": [],
   "source": [
    "# Definition for singly-linked list.\n",
    "# class ListNode:\n",
    "#     def __init__(self, val=0, next=None):\n",
    "#         self.val = val\n",
    "#         self.next = next\n",
    "class Solution:\n",
    "    def deleteDuplicates(self, head: Optional[ListNode]) -> Optional[ListNode]:\n",
    "        step = head\n",
    "        if step == None:\n",
    "            return head\n",
    "        while step.next != None:\n",
    "            if step.val == step.next.val:\n",
    "                step.next = step.next.next\n",
    "            else:\n",
    "                step = step.next\n",
    "        return head\n",
    "        "
   ]
  },
  {
   "cell_type": "markdown",
   "id": "3731d489",
   "metadata": {},
   "source": [
    "# 7 kyu"
   ]
  },
  {
   "cell_type": "markdown",
   "id": "eed4371d",
   "metadata": {},
   "source": [
    "## Task#5\n",
    "https://www.codewars.com//kata/5a29a0898f27f2d9c9000058"
   ]
  },
  {
   "cell_type": "code",
   "execution_count": 1,
   "id": "bc7f3bd0",
   "metadata": {},
   "outputs": [],
   "source": [
    "def solve(s):\n",
    "    uppercase = 0\n",
    "    lowercase = 0\n",
    "    numbers = 0\n",
    "    special = 0\n",
    "    for i in range(len(s)):\n",
    "        if s[i].istitle() == True and s[i].isalpha() == True:\n",
    "            uppercase = uppercase + 1 \n",
    "        elif s[i].istitle() == False and s[i].isalpha() == True:\n",
    "            lowercase = lowercase + 1\n",
    "        elif s[i].isdigit() == True:\n",
    "             numbers = numbers + 1\n",
    "        else:\n",
    "            special = special + 1\n",
    "    return([uppercase, lowercase, numbers, special])\n"
   ]
  },
  {
   "cell_type": "markdown",
   "id": "32a94e04",
   "metadata": {},
   "source": [
    "## Task#6\n",
    "https://www.codewars.com//kata/5a084a098ba9146690000969"
   ]
  },
  {
   "cell_type": "code",
   "execution_count": 69,
   "id": "1f1f0f2a",
   "metadata": {},
   "outputs": [],
   "source": [
    "import datetime\n",
    "def time_convert(num):\n",
    "    if num < 0:\n",
    "        num = 0\n",
    "    if num//60 >= 24:\n",
    "        minut = datetime.datetime.strptime(f'{num%60}','%M').strftime('%M')\n",
    "        return f'{num//60}:{minut}'\n",
    "    hr_and_min = datetime.datetime.strptime(f'{num//60}:{num%60}','%H:%M')\n",
    "    return hr_and_min.strftime('%H:%M')\n"
   ]
  },
  {
   "cell_type": "markdown",
   "id": "67b15a2b",
   "metadata": {},
   "source": [
    "## Task#7\n",
    "https://www.codewars.com//kata/5b728f801db5cec7320000c7"
   ]
  },
  {
   "cell_type": "code",
   "execution_count": 95,
   "id": "56036305",
   "metadata": {},
   "outputs": [],
   "source": [
    "def solve(st,k):\n",
    "    new_str = st[:]\n",
    "    cod_symbol = 97\n",
    "    if k > len(st):\n",
    "        return ''\n",
    "    for i in range(k):\n",
    "        while new_str.find(chr(cod_symbol)) == -1:\n",
    "            cod_symbol += 1\n",
    "        new_str = new_str.replace(chr(cod_symbol), '', 1)\n",
    "    return new_str\n",
    "        "
   ]
  },
  {
   "cell_type": "markdown",
   "id": "0e99787f",
   "metadata": {},
   "source": [
    "## 6 kyu"
   ]
  },
  {
   "cell_type": "markdown",
   "id": "f3f98d51",
   "metadata": {},
   "source": [
    "## Task#8\n",
    "https://www.codewars.com//kata/5a908da30025e995880000e3"
   ]
  },
  {
   "cell_type": "code",
   "execution_count": 163,
   "id": "1c2e0e32",
   "metadata": {},
   "outputs": [],
   "source": [
    "from math import sqrt\n",
    "def solve(a, b):\n",
    "    sequence = ''\n",
    "    answer = ''\n",
    "    number = 2\n",
    "    lst = []\n",
    "    while len(sequence) < (a+b):\n",
    "        test = True\n",
    "        for i in range(2 ,number):\n",
    "            \n",
    "            if (number > 10):\n",
    "                if (number%2==0) or (number%10==5):\n",
    "                    test = False\n",
    "                    continue\n",
    "                    \n",
    "            if test == True:      \n",
    "                for j in lst:\n",
    "                    if j > int((sqrt(number)) + 1):\n",
    "                        lst.append(number)\n",
    "                        sequence = sequence + str(number)\n",
    "                        number += 1\n",
    "                        test = False\n",
    "                        break\n",
    "\n",
    "                    if number % j == 0 and test == True:\n",
    "                        test = False\n",
    "                        break\n",
    "                \n",
    "        if test == True:\n",
    "            lst.append(number)\n",
    "            sequence = sequence + str(number)\n",
    "        number += 1\n",
    "    \n",
    "    for i in range(b):\n",
    "        answer = answer + sequence[a + i] \n",
    "    return answer\n",
    "        "
   ]
  },
  {
   "cell_type": "markdown",
   "id": "a8f22e3b",
   "metadata": {},
   "source": [
    "## Task#9 \n",
    "https://www.codewars.com//kata/5a1cb5406975987dd9000028"
   ]
  },
  {
   "cell_type": "code",
   "execution_count": 229,
   "id": "03345876",
   "metadata": {},
   "outputs": [],
   "source": [
    "def sort_array(a):\n",
    "    even = []\n",
    "    odd = []\n",
    "    if len(a)<1:\n",
    "        return []\n",
    "    for i in range(len(a)):\n",
    "        if a[i] == 0 or a[i] % 2 == 0:\n",
    "            even.append(a[i])\n",
    "        else:\n",
    "            odd.append(a[i])\n",
    "    even.sort(reverse = True)\n",
    "    odd.sort()\n",
    "    \n",
    "    j = 0\n",
    "    k = 0\n",
    "    for i in range(len(a)):\n",
    "        if a[i] == 0 or a[i] % 2 == 0:\n",
    "            a[i] = even[j]\n",
    "            j += 1\n",
    "        else:\n",
    "            a[i] = odd[k]\n",
    "            k += 1\n",
    "    return a\n"
   ]
  },
  {
   "cell_type": "markdown",
   "id": "d0ea1cbd",
   "metadata": {},
   "source": [
    "## Task#10\n",
    "https://www.codewars.com//kata/5893eb36779ce5faab0000da"
   ]
  },
  {
   "cell_type": "code",
   "execution_count": 239,
   "id": "0315e9a5",
   "metadata": {},
   "outputs": [],
   "source": [
    "def matrix_elements_sum(matrix):\n",
    "    mymatrix = matrix.copy()\n",
    "    summ = 0\n",
    "    for i in range(len(matrix)):\n",
    "        for j in range(len(matrix[i])):\n",
    "            if matrix[i][j] == 0 and i + 1 < len(matrix):\n",
    "                mymatrix[i + 1][j] = 0\n",
    "    for i in range(len(mymatrix)):\n",
    "        summ = summ + sum(mymatrix[i])\n",
    "    return summ\n",
    "        "
   ]
  }
 ],
 "metadata": {
  "kernelspec": {
   "display_name": "Python 3 (ipykernel)",
   "language": "python",
   "name": "python3"
  },
  "language_info": {
   "codemirror_mode": {
    "name": "ipython",
    "version": 3
   },
   "file_extension": ".py",
   "mimetype": "text/x-python",
   "name": "python",
   "nbconvert_exporter": "python",
   "pygments_lexer": "ipython3",
   "version": "3.9.13"
  }
 },
 "nbformat": 4,
 "nbformat_minor": 5
}
