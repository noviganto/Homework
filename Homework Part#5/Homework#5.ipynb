{
 "cells": [
  {
   "cell_type": "markdown",
   "id": "b9fdafe8",
   "metadata": {},
   "source": [
    "## 3.1. Строки, кортежи, списки\n",
    "https://academy.yandex.ru/handbook/python/article/stroki-kortezhi-spiski"
   ]
  },
  {
   "cell_type": "markdown",
   "id": "b34c1a5f",
   "metadata": {},
   "source": [
    "## Task A\n",
    "https://new.contest.yandex.ru/41237/problem?id=149944/2022_10_13/Rqerjkkkal"
   ]
  },
  {
   "cell_type": "code",
   "execution_count": null,
   "id": "4e5ac1a7",
   "metadata": {},
   "outputs": [],
   "source": [
    "count = 0\n",
    "mylist = []\n",
    "N = int(input())\n",
    "for i in range(N):\n",
    "    mylist.append(input())\n",
    "    if mylist[i][0] == 'а' or mylist[i][0] == 'б' or mylist[i][0] == 'в':\n",
    "        count += 1\n",
    "if count == N:\n",
    "    print('YES')\n",
    "else:\n",
    "    print('NO')\n"
   ]
  },
  {
   "cell_type": "markdown",
   "id": "05db0d84",
   "metadata": {},
   "source": [
    "## Task B\n",
    "https://new.contest.yandex.ru/41237/problem?id=149944/2022_10_13/jDxpE8Yh7j"
   ]
  },
  {
   "cell_type": "code",
   "execution_count": null,
   "id": "10b2f7d5",
   "metadata": {},
   "outputs": [],
   "source": [
    "string = input()\n",
    "for i in string:\n",
    "    print(i)"
   ]
  },
  {
   "cell_type": "markdown",
   "id": "f2c6ca18",
   "metadata": {},
   "source": [
    "## Task C\n",
    "https://new.contest.yandex.ru/41237/problem?id=149944/2022_10_13/qCXhJgNHI9"
   ]
  },
  {
   "cell_type": "code",
   "execution_count": null,
   "id": "c31d079e",
   "metadata": {},
   "outputs": [],
   "source": [
    "L = int(input())\n",
    "N = int(input())\n",
    "list_str = []\n",
    "for i in range(N):\n",
    "    list_str.append(input())\n",
    "    if list_str[i] != list_str[i][:L]:\n",
    "        list_str[i] = list_str[i][:L - 3] + '...'\n",
    "    \n",
    "for i in range(N):\n",
    "    print(list_str[i]) \n"
   ]
  },
  {
   "cell_type": "markdown",
   "id": "f2fd65b9",
   "metadata": {},
   "source": [
    "## Task D\n",
    "https://new.contest.yandex.ru/41237/problem?id=149944/2022_10_13/OgIDCS3i0M"
   ]
  },
  {
   "cell_type": "code",
   "execution_count": null,
   "id": "879d44d8",
   "metadata": {},
   "outputs": [],
   "source": [
    "string = input()\n",
    "list_str = []\n",
    "\n",
    "while string != '':\n",
    "    list_str.append(string)\n",
    "    string = input()\n",
    "\n",
    "for i in list_str:\n",
    "    if i.endswith('@@@') is not True:\n",
    "        if i.startswith('##') is True:\n",
    "            i = i[2:]\n",
    "            print(i)\n",
    "        else:\n",
    "            print(i)"
   ]
  },
  {
   "cell_type": "markdown",
   "id": "e0c2e353",
   "metadata": {},
   "source": [
    "## Task E\n",
    "https://new.contest.yandex.ru/41237/problem?id=149944/2022_10_13/ov6kYV0VMp"
   ]
  },
  {
   "cell_type": "code",
   "execution_count": null,
   "id": "d261a883",
   "metadata": {},
   "outputs": [],
   "source": [
    "string = input()\n",
    "if string == string[::-1]:\n",
    "    print('YES')\n",
    "else:\n",
    "    print('NO')"
   ]
  },
  {
   "cell_type": "markdown",
   "id": "3d1da7a1",
   "metadata": {},
   "source": [
    "## Task F\n",
    "https://new.contest.yandex.ru/41237/problem?id=149944/2022_10_13/a4hvWnzaSa"
   ]
  },
  {
   "cell_type": "code",
   "execution_count": null,
   "id": "c1d91c57",
   "metadata": {},
   "outputs": [],
   "source": [
    "N = int(input())\n",
    "count = 0\n",
    "for i in range(N):\n",
    "    string = input()\n",
    "    mylist = string.split()\n",
    "    for i in mylist:\n",
    "        if i == 'зайка':\n",
    "            count += 1\n",
    "        \n",
    "    \n",
    "print(count)"
   ]
  },
  {
   "cell_type": "markdown",
   "id": "39098394",
   "metadata": {},
   "source": [
    "## Task G\n",
    "https://new.contest.yandex.ru/41237/problem?id=149944/2022_10_13/3EdEEqxi5v"
   ]
  },
  {
   "cell_type": "code",
   "execution_count": null,
   "id": "96e5d721",
   "metadata": {},
   "outputs": [],
   "source": [
    "nums_list = input().split()\n",
    "\n",
    "print(int(nums_list[0]) + int(nums_list[1]))"
   ]
  },
  {
   "cell_type": "markdown",
   "id": "9644a004",
   "metadata": {},
   "source": [
    "## Task H\n",
    "https://new.contest.yandex.ru/41237/problem?id=149944/2022_10_13/vpdTAfe36G"
   ]
  },
  {
   "cell_type": "code",
   "execution_count": null,
   "id": "1e5508b5",
   "metadata": {},
   "outputs": [],
   "source": [
    "N = int(input())\n",
    "for i in range(N):\n",
    "    string = input()\n",
    "    index = string.find('зайка')\n",
    "    if index == -1:\n",
    "        print('Заек нет =(')\n",
    "    else:\n",
    "        print(index + 1)"
   ]
  },
  {
   "cell_type": "markdown",
   "id": "c5dccb3f",
   "metadata": {},
   "source": [
    "## Task I\n",
    "https://new.contest.yandex.ru/41237/problem?id=149944/2022_10_13/xN8A0sVDQd"
   ]
  },
  {
   "cell_type": "code",
   "execution_count": null,
   "id": "6765d798",
   "metadata": {},
   "outputs": [],
   "source": [
    "mylist = []\n",
    "string = input()\n",
    "while string != '':\n",
    "    if string[0] != '#':\n",
    "        if string.find('#') != -1:\n",
    "            string = string[:string.find('#')]\n",
    "        mylist.append(string)\n",
    "    string = input()\n",
    "    \n",
    "for i in mylist:\n",
    "    print(i)\n"
   ]
  },
  {
   "cell_type": "markdown",
   "id": "852a9d7a",
   "metadata": {},
   "source": [
    "## Task J\n",
    "https://new.contest.yandex.ru/41237/problem?id=149944/2022_10_13/fCcQ3iQzrD"
   ]
  },
  {
   "cell_type": "code",
   "execution_count": null,
   "id": "e0df6adf",
   "metadata": {},
   "outputs": [],
   "source": [
    "string = input()\n",
    "list_letters = []\n",
    "list_numbers = []\n",
    "while string != 'ФИНИШ':\n",
    "    string = string.replace(' ', '')\n",
    "    string = string.lower()\n",
    "    for i in range(len(string)):\n",
    "        if string[i] in list_letters:\n",
    "            for j in range(len(list_letters)):\n",
    "                if string[i] == list_letters[j]:\n",
    "                    list_numbers[j] += 1\n",
    "        else:\n",
    "            list_letters.append(string[i])\n",
    "            list_numbers.append(1)\n",
    "    string = input()\n",
    "\n",
    "count = 0\n",
    "max_value = max(list_numbers)\n",
    "i = 0\n",
    "while i != len(list_numbers):\n",
    "    if list_numbers[i] != max_value:\n",
    "        del list_numbers[i]\n",
    "        del list_letters[i]\n",
    "    else:\n",
    "        i += 1\n",
    "\n",
    "min_ord = list_numbers[0]\n",
    "if len(list_numbers) > 1:\n",
    "    for i in range(len(list_numbers)):\n",
    "        list_numbers[i] = ord(list_letters[i])\n",
    "    print(chr(min(list_numbers)))\n",
    "\n",
    "else:\n",
    "    print(list_letters[0])\n"
   ]
  },
  {
   "cell_type": "markdown",
   "id": "03bae0b3",
   "metadata": {},
   "source": [
    "## 3.2. Множества, словари\n",
    "https://academy.yandex.ru/handbook/python/article/mnozhestva-slovari"
   ]
  },
  {
   "cell_type": "markdown",
   "id": "7f49b71b",
   "metadata": {},
   "source": [
    "## Task A\n",
    "https://new.contest.yandex.ru/41238/problem?id=149944/2022_10_13/rWSOXXUpgK"
   ]
  },
  {
   "cell_type": "code",
   "execution_count": null,
   "id": "b38ab6f1",
   "metadata": {},
   "outputs": [],
   "source": [
    "string = ''\n",
    "for x in set(input()):\n",
    "    string = string + str(x)\n",
    "print(string)\n"
   ]
  },
  {
   "cell_type": "markdown",
   "id": "e7f59376",
   "metadata": {},
   "source": [
    "## Task B\n",
    "https://new.contest.yandex.ru/41238/problem?id=149944/2022_10_13/O36RTF4IwF"
   ]
  },
  {
   "cell_type": "code",
   "execution_count": null,
   "id": "6dabdb6a",
   "metadata": {},
   "outputs": [],
   "source": [
    "input_set = set(input()).intersection(set(input()))\n",
    "string = ''\n",
    "\n",
    "for x in input_set:\n",
    "    string = string + str(x)\n",
    "print(string)\n"
   ]
  },
  {
   "cell_type": "markdown",
   "id": "f59b5b2d",
   "metadata": {},
   "source": [
    "## Task C\n",
    "https://new.contest.yandex.ru/41238/problem?id=149944/2022_10_13/JnnhhAewGx"
   ]
  },
  {
   "cell_type": "code",
   "execution_count": null,
   "id": "b4eac610",
   "metadata": {},
   "outputs": [],
   "source": [
    "N = int(input())\n",
    "objects = set()\n",
    "for i in range(N):\n",
    "    input_str = set(input().split())\n",
    "    objects = objects.union(input_str)\n",
    "for i in objects:\n",
    "    print(str(i))\n"
   ]
  },
  {
   "cell_type": "markdown",
   "id": "5e9764fe",
   "metadata": {},
   "source": [
    "## Task D\n",
    "https://new.contest.yandex.ru/41238/problem?id=149944/2022_10_13/AZM9pHPP61"
   ]
  },
  {
   "cell_type": "code",
   "execution_count": null,
   "id": "8bd63386",
   "metadata": {},
   "outputs": [],
   "source": [
    "N = int(input())\n",
    "mannaya = set()\n",
    "M = int(input())\n",
    "ovsyanaya = set()\n",
    "\n",
    "for i in range(N):\n",
    "    mannaya.add(input())\n",
    "for i in range(M):\n",
    "    ovsyanaya.add(input())\n",
    "\n",
    "kasha = mannaya.intersection(ovsyanaya)\n",
    "\n",
    "if len(kasha) == 0:\n",
    "    print('Таких нет')\n",
    "else:\n",
    "    print(len(kasha))\n"
   ]
  },
  {
   "cell_type": "markdown",
   "id": "8751c60a",
   "metadata": {},
   "source": [
    "## Task E\n",
    "https://new.contest.yandex.ru/41238/problem?id=149944/2022_10_13/DL6KYE4eaB"
   ]
  },
  {
   "cell_type": "code",
   "execution_count": null,
   "id": "3e55d9a4",
   "metadata": {},
   "outputs": [],
   "source": [
    "N = int(input())\n",
    "M = int(input())\n",
    "group = []\n",
    "count = 0\n",
    "\n",
    "for i in range(N + M):\n",
    "    string = input()\n",
    "    if string in group:\n",
    "        count -= 1\n",
    "    else:\n",
    "        count += 1\n",
    "    group.append(string)\n",
    "    \n",
    "if count == 0:\n",
    "    print('Таких нет')\n",
    "else:\n",
    "    print(count)"
   ]
  },
  {
   "cell_type": "markdown",
   "id": "64efad20",
   "metadata": {},
   "source": [
    "## Task F\n",
    "https://new.contest.yandex.ru/41238/problem?id=149944/2022_10_13/gmpbwZnMbN"
   ]
  },
  {
   "cell_type": "code",
   "execution_count": null,
   "id": "cfda4e94",
   "metadata": {},
   "outputs": [],
   "source": [
    "N = int(input())\n",
    "M = int(input())\n",
    "group = set()\n",
    "\n",
    "for i in range(N + M):\n",
    "    string = input()\n",
    "    if string in group:\n",
    "        group.remove(string)\n",
    "    else:\n",
    "        group.add(string)\n",
    "    \n",
    "if len(group) == 0:\n",
    "    print('Таких нет')\n",
    "else:\n",
    "    for ch in sorted(group):\n",
    "        print(ch)"
   ]
  },
  {
   "cell_type": "markdown",
   "id": "2cc0f3c0",
   "metadata": {},
   "source": [
    "## Task G\n",
    "https://new.contest.yandex.ru/41238/problem?id=149944/2022_10_13/H5d92R3S0D"
   ]
  },
  {
   "cell_type": "code",
   "execution_count": null,
   "id": "a05f3401",
   "metadata": {},
   "outputs": [],
   "source": [
    "alphabet = {'A': '.-', 'B': '-...', 'C': '-.-.',\n",
    "            'D': '-..', 'E': '.', 'F': '..-.',\n",
    "            'G': '--.', 'H': '....', 'I': '..',\n",
    "            'J': '.---', 'K': '-.-', 'L': '.-..',\n",
    "            'M': '--', 'N': '-.', 'O': '---',\n",
    "            'P': '.--.', 'Q': '--.-', 'R': '.-.',\n",
    "            'S': '...', 'T': '-', 'U': '..-',\n",
    "            'V': '...-', 'W': '.--', 'X': '-..-',\n",
    "            'Y': '-.--', 'Z': '--..',\n",
    "            '0': '-----', '1': '.----', '2': '..---',\n",
    "            '3': '...--', '4': '....-', '5': '.....',\n",
    "            '6': '-....', '7': '--...', '8': '---..',\n",
    "            '9': '----.'}\n",
    "\n",
    "string = input().upper().split()\n",
    "for i in string:\n",
    "    i = list(i)\n",
    "for i in range(len(string)):\n",
    "    answer = ''\n",
    "    for j in range(len(string[i])):\n",
    "        answer = answer + alphabet[string[i][j]] + ' '\n",
    "    print(answer)\n"
   ]
  },
  {
   "cell_type": "markdown",
   "id": "40dd6a7d",
   "metadata": {},
   "source": [
    "## Task H\n",
    "https://new.contest.yandex.ru/41238/problem?id=149944/2022_10_13/HACxqMEpWL"
   ]
  },
  {
   "cell_type": "code",
   "execution_count": null,
   "id": "ed284796",
   "metadata": {},
   "outputs": [],
   "source": [
    "N = int(input())\n",
    "kasheedi = []\n",
    "\n",
    "for i in range(N):\n",
    "    kasheedi.append(input().split())\n",
    "\n",
    "poisk = input()\n",
    "answer = []\n",
    "for i in range(len(kasheedi)):\n",
    "    if poisk in kasheedi[i]:\n",
    "        answer.append(kasheedi[i][0])\n",
    "\n",
    "if len(answer) == 0:\n",
    "    print('Таких нет')\n",
    "else:\n",
    "    answer.sort()\n",
    "    for i in answer:\n",
    "        print(i)\n",
    "\n"
   ]
  },
  {
   "cell_type": "markdown",
   "id": "db61b40b",
   "metadata": {},
   "source": [
    "## Task I\n",
    "https://new.contest.yandex.ru/41238/problem?id=149944/2022_10_13/Tvk8oartND"
   ]
  },
  {
   "cell_type": "code",
   "execution_count": null,
   "id": "269c1874",
   "metadata": {},
   "outputs": [],
   "source": [
    "string = input().split()\n",
    "flora = [string]\n",
    "while string != '':\n",
    "    string = input()\n",
    "    flora.append(string.split())\n",
    "\n",
    "answer = dict()\n",
    "for i in flora:\n",
    "    for j in i:\n",
    "        if j in answer:\n",
    "            answer[j] = answer[j] + 1\n",
    "        else:\n",
    "            answer[j] = 1\n",
    "\n",
    "for i in answer:\n",
    "    print(i + ' ' + str(answer[i]))\n",
    "            "
   ]
  },
  {
   "cell_type": "markdown",
   "id": "1622a2e8",
   "metadata": {},
   "source": [
    "## Task J\n",
    "https://new.contest.yandex.ru/41238/problem?id=149944/2022_10_13/9T6sXF8RWo"
   ]
  },
  {
   "cell_type": "code",
   "execution_count": 18,
   "id": "6104ff69",
   "metadata": {},
   "outputs": [
    {
     "name": "stdout",
     "output_type": "stream",
     "text": [
      " \n",
      " \n"
     ]
    }
   ],
   "source": [
    "translit = {'А': 'A', 'Б': 'B', 'В': 'V',\n",
    "            'Г': 'G', 'Д': 'D', 'Е': 'E',\n",
    "            'Ё': 'E', 'Ж': 'Zh', 'З': 'Z',\n",
    "            'И': 'I', 'Й': 'I', 'К': 'K',\n",
    "            'Л': 'L', 'М': 'M', 'Н': 'N',\n",
    "            'О': 'O', 'П': 'P', 'Р': 'R',\n",
    "            'С': 'S', 'Т': 'T', 'У': 'U',\n",
    "            'Ф': 'F', 'Х': 'Kh', 'Ц': 'Tc',\n",
    "            'Ч': 'Ch', 'Ш': 'Sh', 'Щ': 'Shch',\n",
    "            'Ъ': '', 'Ы': 'Y', 'Ь': '', \n",
    "            'Э': 'E', 'Ю': 'Iu', 'Я': 'Ia',\n",
    "            'а': 'a', 'б': 'b', 'в': 'v',\n",
    "            'г': 'g', 'д': 'd', 'е': 'e',\n",
    "            'ё': 'e', 'ж': 'zh', 'з': 'z',\n",
    "            'и': 'i', 'й': 'i', 'к': 'k',\n",
    "            'л': 'l', 'м': 'm', 'н': 'n',\n",
    "            'о': 'o', 'п': 'p', 'р': 'r',\n",
    "            'с': 's', 'т': 't', 'у': 'u',\n",
    "            'ф': 'f', 'х': 'kh', 'ц': 'tc',\n",
    "            'ч': 'ch', 'ш': 'sh', 'щ': 'shch',\n",
    "            'ъ': '', 'ы': 'y', 'ь': '', \n",
    "            'э': 'e', 'ю': 'iu', 'я': 'ia'}\n",
    "\n",
    "\n",
    "string = input()\n",
    "for ch in string:\n",
    "    print(translit.get(ch, ch), end='')\n"
   ]
  },
  {
   "cell_type": "markdown",
   "id": "db73f601",
   "metadata": {},
   "source": [
    "## 3.3. Списочные выражения. Модель памяти для типов языка Python\n",
    "https://academy.yandex.ru/handbook/python/article/spisochnye-vyrazheniya-model-pamyati-dlya-tipov-yazyka-python"
   ]
  },
  {
   "cell_type": "markdown",
   "id": "074e8767",
   "metadata": {},
   "source": [
    "## Task A\n",
    "https://new.contest.yandex.ru/41239/problem?id=149944/2022_10_21/cxXOJQMv0Y"
   ]
  },
  {
   "cell_type": "code",
   "execution_count": null,
   "id": "64139857",
   "metadata": {},
   "outputs": [],
   "source": [
    "[x**2 for x in range(a, b + 1)]"
   ]
  },
  {
   "cell_type": "markdown",
   "id": "57e215c5",
   "metadata": {},
   "source": [
    "## Task B\n",
    "https://new.contest.yandex.ru/41239/problem?id=149944/2022_10_21/dQCMDrRj3q"
   ]
  },
  {
   "cell_type": "code",
   "execution_count": null,
   "id": "ca2a5c8b",
   "metadata": {},
   "outputs": [],
   "source": [
    "[[x * i for x in range(1, n + 1)] for i in range(1, n + 1)]"
   ]
  },
  {
   "cell_type": "markdown",
   "id": "fe50508b",
   "metadata": {},
   "source": [
    "## Task C\n",
    "https://new.contest.yandex.ru/41239/problem?id=149944/2022_10_21/Wmu5XoFD8L"
   ]
  },
  {
   "cell_type": "code",
   "execution_count": null,
   "id": "fe7df2cd",
   "metadata": {},
   "outputs": [],
   "source": [
    "[len(x) for x in sentence.split()]"
   ]
  },
  {
   "cell_type": "markdown",
   "id": "98af1f47",
   "metadata": {},
   "source": [
    "## Task D\n",
    "https://new.contest.yandex.ru/41239/problem?id=149944/2022_10_21/cpVnlfo6ju"
   ]
  },
  {
   "cell_type": "code",
   "execution_count": null,
   "id": "09aac087",
   "metadata": {},
   "outputs": [],
   "source": [
    "{x for x in numbers if x % 2 != 0}"
   ]
  },
  {
   "cell_type": "markdown",
   "id": "9d76050f",
   "metadata": {},
   "source": [
    "## Task E\n",
    "https://new.contest.yandex.ru/41239/problem?id=149944/2022_10_21/f6sGyRWpGx"
   ]
  },
  {
   "cell_type": "code",
   "execution_count": null,
   "id": "ab7087e5",
   "metadata": {},
   "outputs": [],
   "source": [
    "{x for x in numbers if int(x ** 0.5) ** 2 == x}"
   ]
  },
  {
   "cell_type": "markdown",
   "id": "316d71c4",
   "metadata": {},
   "source": [
    "## Task F\n",
    "https://new.contest.yandex.ru/41239/problem?id=149944/2022_10_21/dmN3UypHop"
   ]
  },
  {
   "cell_type": "code",
   "execution_count": null,
   "id": "70d4b936",
   "metadata": {},
   "outputs": [],
   "source": [
    "{x: list(text.lower()).count(x) for x in text.lower() if x.isalnum()}"
   ]
  },
  {
   "cell_type": "markdown",
   "id": "1423626f",
   "metadata": {},
   "source": [
    "## Task G\n",
    "https://new.contest.yandex.ru/41239/problem?id=149944/2022_10_21/i3ppbkQLTQ"
   ]
  },
  {
   "cell_type": "code",
   "execution_count": null,
   "id": "b7b8526d",
   "metadata": {},
   "outputs": [],
   "source": [
    "{x: list(i for i in range(1, x + 1) if x % i == 0) for x in numbers}"
   ]
  },
  {
   "cell_type": "markdown",
   "id": "fddc8891",
   "metadata": {},
   "source": [
    "## Task H\n",
    "https://new.contest.yandex.ru/41239/problem?id=149944/2022_10_21/7V6IIL9UZh"
   ]
  },
  {
   "cell_type": "code",
   "execution_count": null,
   "id": "cc64f5ba",
   "metadata": {},
   "outputs": [],
   "source": [
    "''.join(x[0].upper() for x in string.split())"
   ]
  },
  {
   "cell_type": "markdown",
   "id": "4d8a6923",
   "metadata": {},
   "source": [
    "## Task I\n",
    "https://new.contest.yandex.ru/41239/problem?id=149944/2022_10_21/hhsmfRisV6"
   ]
  },
  {
   "cell_type": "code",
   "execution_count": null,
   "id": "acb4bbca",
   "metadata": {},
   "outputs": [],
   "source": [
    "' - '.join(str(x) for x in sorted(set(numbers)))"
   ]
  },
  {
   "cell_type": "markdown",
   "id": "31c8b75a",
   "metadata": {},
   "source": [
    "## Task J\n",
    "https://new.contest.yandex.ru/41239/problem?id=149944/2022_10_21/QSSwcIbJMK"
   ]
  },
  {
   "cell_type": "code",
   "execution_count": null,
   "id": "796ba47d",
   "metadata": {},
   "outputs": [],
   "source": [
    "''.join(str(x[0]) * x[1] for x in rle)"
   ]
  }
 ],
 "metadata": {
  "kernelspec": {
   "display_name": "Python 3 (ipykernel)",
   "language": "python",
   "name": "python3"
  },
  "language_info": {
   "codemirror_mode": {
    "name": "ipython",
    "version": 3
   },
   "file_extension": ".py",
   "mimetype": "text/x-python",
   "name": "python",
   "nbconvert_exporter": "python",
   "pygments_lexer": "ipython3",
   "version": "3.9.13"
  }
 },
 "nbformat": 4,
 "nbformat_minor": 5
}
