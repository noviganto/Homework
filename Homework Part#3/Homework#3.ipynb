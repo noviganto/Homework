{
 "cells": [
  {
   "cell_type": "markdown",
   "id": "7b337b7e",
   "metadata": {},
   "source": [
    "## Task#1\n",
    "https://leetcode.com/problems/valid-palindrome/"
   ]
  },
  {
   "cell_type": "code",
   "execution_count": 43,
   "id": "5b3cad08",
   "metadata": {},
   "outputs": [],
   "source": [
    "class Solution:\n",
    "    def isPalindrome(self, s: str) -> bool:\n",
    "        s = s.lower()\n",
    "        i = 0\n",
    "        \n",
    "        for i in s:\n",
    "            if i.isalnum() == False:\n",
    "                s = s.replace(i, '')\n",
    "\n",
    "        if s == '':\n",
    "            return True\n",
    "\n",
    "        if len(s)%2 == 0:\n",
    "            first = s[:int(len(s)/2):]\n",
    "        else:\n",
    "            first = s[:int(len(s)/2)+1:]\n",
    "        first = first[::-1]\n",
    "\n",
    "        second = s[int(len(s)/2)::]\n",
    "        \n",
    "        if first == second:\n",
    "            return True\n",
    "        else:\n",
    "            return False\n",
    "        \n",
    "    "
   ]
  },
  {
   "cell_type": "markdown",
   "id": "84906e73",
   "metadata": {},
   "source": [
    "## Task#2\n",
    "https://leetcode.com/problems/remove-duplicates-from-sorted-array/"
   ]
  },
  {
   "cell_type": "code",
   "execution_count": null,
   "id": "c804b1e7",
   "metadata": {},
   "outputs": [],
   "source": [
    "class Solution:\n",
    "    def removeDuplicates(self, nums: List[int]) -> int:\n",
    "        i, j = 1, 0\n",
    "        while i != len(nums):\n",
    "            if nums[j] != nums[i]:\n",
    "                nums[j + 1] = nums[i]\n",
    "                j += 1\n",
    "            i += 1\n",
    "        return j + 1"
   ]
  },
  {
   "cell_type": "markdown",
   "id": "b9567f6b",
   "metadata": {},
   "source": [
    "## Task#3\n",
    "https://leetcode.com/problems/valid-palindrome-ii/"
   ]
  },
  {
   "cell_type": "code",
   "execution_count": null,
   "id": "f3330e6c",
   "metadata": {},
   "outputs": [],
   "source": [
    "class Solution:\n",
    "    def validPalindrome(self, s: str) -> bool:\n",
    "        i = 0\n",
    "        j = len(s) - 1\n",
    "        left = ''\n",
    "        right = ''\n",
    "        \n",
    "        if s == '':\n",
    "            return True\n",
    "        \n",
    "        while i <= j:\n",
    "            if s[i] != s[j]:\n",
    "                \n",
    "                left = s[:i] + s[i + 1:]\n",
    "                right = s[:j] + s[j + 1:]\n",
    "                break\n",
    "                \n",
    "            i += 1\n",
    "            j -= 1\n",
    "            \n",
    "            \n",
    "        if len(left)%2 == 0:\n",
    "            first = left[:int(len(left)/2):]\n",
    "        else:\n",
    "            first = left[:int(len(left)/2)+1:]\n",
    "            \n",
    "        first = first[::-1]\n",
    "\n",
    "        second = left[int(len(left)/2)::]\n",
    "        \n",
    "        if first == second:\n",
    "            return True\n",
    "        else:\n",
    "            if len(right)%2 == 0:\n",
    "                first = right[:int(len(right)/2):]\n",
    "            else:\n",
    "                first = right[:int(len(right)/2)+1:]\n",
    "\n",
    "            first = first[::-1]\n",
    "\n",
    "            second = right[int(len(right)/2)::]\n",
    "\n",
    "            if first == second:\n",
    "                return True\n",
    "            else:\n",
    "                return False\n",
    "            "
   ]
  },
  {
   "cell_type": "markdown",
   "id": "e66784a8",
   "metadata": {},
   "source": [
    "## Task#4\n",
    "https://leetcode.com/problems/merge-sorted-array/"
   ]
  },
  {
   "cell_type": "code",
   "execution_count": 50,
   "id": "ab6498f7",
   "metadata": {},
   "outputs": [],
   "source": [
    "class Solution:\n",
    "    def merge(self, nums1: List[int], m: int, nums2: List[int], n: int) -> None:\n",
    "        point1 = 0\n",
    "        point2 = 0\n",
    "        j = 0\n",
    "        buff = []\n",
    "        mynums1 = nums1\n",
    "        if len(mynums1) != m:\n",
    "            for i in range(m):\n",
    "                buff.append(nums1[i])\n",
    "            mynums1 = buff\n",
    "            \n",
    "        result = []\n",
    "        while point1 < len(mynums1) and point2 < len(nums2):\n",
    "            if mynums1[point1] < nums2[point2]:\n",
    "                nums1[j] = mynums1[point1]\n",
    "                j += 1\n",
    "                point1 += 1\n",
    "            else:\n",
    "                nums1[j] = nums2[point2]\n",
    "                j += 1\n",
    "                point2 += 1\n",
    "        while point1 < len(mynums1):\n",
    "            nums1[j] = mynums1[point1]\n",
    "            j += 1\n",
    "            point1 += 1\n",
    "        while point2 < len(nums2):\n",
    "            nums1[j] = nums2[point2]\n",
    "            j += 1\n",
    "            point2 += 1\n"
   ]
  },
  {
   "cell_type": "markdown",
   "id": "4e2bae04",
   "metadata": {},
   "source": [
    "## Task#5\n",
    "https://leetcode.com/problems/move-zeroes/"
   ]
  },
  {
   "cell_type": "code",
   "execution_count": null,
   "id": "588b4a58",
   "metadata": {},
   "outputs": [],
   "source": [
    "class Solution:\n",
    "    def moveZeroes(self, nums: List[int]) -> None:\n",
    "\n",
    "        for i in range(len(nums)):\n",
    "            if nums[i] == 0:\n",
    "                for j in range(i + 1, len(nums)):\n",
    "                    if nums[j] != 0:\n",
    "                        nums[i] = nums[j]\n",
    "                        nums[j] = 0\n",
    "                        break\n",
    "        return nums"
   ]
  },
  {
   "cell_type": "markdown",
   "id": "97111aeb",
   "metadata": {},
   "source": [
    "## Task#6\n",
    "https://leetcode.com/problems/remove-duplicates-from-sorted-array-ii/"
   ]
  },
  {
   "cell_type": "code",
   "execution_count": null,
   "id": "da2d2e51",
   "metadata": {},
   "outputs": [],
   "source": [
    "class Solution:\n",
    "    def removeDuplicates(self, nums: List[int]) -> int:\n",
    "        i = 1\n",
    "        j = 0\n",
    "        \n",
    "        while i < len(nums) - 1:\n",
    "            if len(nums) >= 2 and nums[j] == nums[i] and nums[j] == nums[i + 1]:\n",
    "                del nums[i - 1]\n",
    "                i -= 1\n",
    "                j -= 1\n",
    "            i += 1\n",
    "            j += 1\n",
    "        #print(nums)\n",
    "        return len(nums)"
   ]
  },
  {
   "cell_type": "markdown",
   "id": "c1fc18b0",
   "metadata": {},
   "source": [
    "## Task#7\n",
    "https://leetcode.com/problems/reverse-string/"
   ]
  },
  {
   "cell_type": "code",
   "execution_count": null,
   "id": "dfad2916",
   "metadata": {},
   "outputs": [],
   "source": [
    "class Solution:\n",
    "    def reverseString(self, s: List[str]) -> None:\n",
    "\n",
    "        halflen = int(len(s)/2)\n",
    "        for i in range(halflen):\n",
    "            buff = s[len(s) - 1 - i]\n",
    "            s[len(s) - 1 - i] = s[i]\n",
    "            s[i] = buff\n",
    "        return s"
   ]
  },
  {
   "cell_type": "markdown",
   "id": "348e125b",
   "metadata": {},
   "source": [
    "## Task#8\n",
    "https://www.codewars.com/kata/517abf86da9663f1d2000003"
   ]
  },
  {
   "cell_type": "code",
   "execution_count": 49,
   "id": "88eefe77",
   "metadata": {},
   "outputs": [],
   "source": [
    "def to_camel_case(text):\n",
    "    symbol1, symbol2 = '_', '-'\n",
    "    for i in range(len(text)):\n",
    "        if text[i].isdigit() == False and text[i].isalpha() == False:\n",
    "            text = text[:i + 1] + text[i + 1].upper() + text[i+2:]\n",
    "    text = text.replace(symbol1, '')\n",
    "    text = text.replace(symbol2, '')\n",
    "    return text\n"
   ]
  },
  {
   "cell_type": "markdown",
   "id": "4e109417",
   "metadata": {},
   "source": [
    "## Task#9 \n",
    "https://www.codewars.com/kata/54e6533c92449cc251001667"
   ]
  },
  {
   "cell_type": "code",
   "execution_count": null,
   "id": "d3667e58",
   "metadata": {},
   "outputs": [],
   "source": [
    "def unique_in_order(sequence):\n",
    "    mylist = []\n",
    "    j = -1\n",
    "    for i in range(len(sequence)):\n",
    "        if i == 0 or mylist[j] != sequence[i]:\n",
    "            mylist.append(sequence[i])\n",
    "            j += 1\n",
    "    return mylist"
   ]
  },
  {
   "cell_type": "markdown",
   "id": "00371e90",
   "metadata": {},
   "source": [
    "## Task#10\n",
    "https://www.codewars.com/kata/55467aaf72494e3bdc00007f"
   ]
  },
  {
   "cell_type": "code",
   "execution_count": 95,
   "id": "049fdfa1",
   "metadata": {},
   "outputs": [],
   "source": [
    "def is_rotation(s1,s2):\n",
    "    \n",
    "    \n",
    "    if s1 == s2:\n",
    "        return True\n",
    "    if len(s1) != len(s2):\n",
    "        return False\n",
    "    \n",
    "    first = s2.find(s1[0])\n",
    "\n",
    "    if len(s1) != len(s2):\n",
    "        return False\n",
    "    \n",
    "    for i in range(len(s1)):\n",
    "        if first + i == len(s2):\n",
    "            first = -i\n",
    "        if s1[i] != s2[first + i]:\n",
    "            return False\n",
    "    return True\n",
    "            \n"
   ]
  }
 ],
 "metadata": {
  "kernelspec": {
   "display_name": "Python 3 (ipykernel)",
   "language": "python",
   "name": "python3"
  },
  "language_info": {
   "codemirror_mode": {
    "name": "ipython",
    "version": 3
   },
   "file_extension": ".py",
   "mimetype": "text/x-python",
   "name": "python",
   "nbconvert_exporter": "python",
   "pygments_lexer": "ipython3",
   "version": "3.9.13"
  }
 },
 "nbformat": 4,
 "nbformat_minor": 5
}
