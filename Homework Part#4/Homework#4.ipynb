{
 "cells": [
  {
   "cell_type": "markdown",
   "id": "45bccb15",
   "metadata": {},
   "source": [
    "## Task#1\n",
    "https://leetcode.com/problems/intersection-of-two-arrays/"
   ]
  },
  {
   "cell_type": "code",
   "execution_count": null,
   "id": "50aacece",
   "metadata": {},
   "outputs": [],
   "source": [
    "class Solution:\n",
    "    def intersection(self, nums1: List[int], nums2: List[int]) -> List[int]:\n",
    "        myset = set()\n",
    "        for i in nums1:\n",
    "            for j in nums2:\n",
    "                if i == j:\n",
    "                    myset.add(i)\n",
    "        return list(myset)"
   ]
  },
  {
   "cell_type": "markdown",
   "id": "8ed8b74c",
   "metadata": {},
   "source": [
    "## Task#2\n",
    "https://leetcode.com/problems/remove-element/"
   ]
  },
  {
   "cell_type": "code",
   "execution_count": 16,
   "id": "685b5bb7",
   "metadata": {},
   "outputs": [],
   "source": [
    "class Solution:\n",
    "    def removeElement(self, nums: List[int], val: int) -> int:\n",
    "\n",
    "        i = 0\n",
    "        j = len(nums) - 1\n",
    "        count = 0\n",
    "\n",
    "        if len(nums) == 0:\n",
    "            return 0\n",
    "\n",
    "        if len(nums) == 1:\n",
    "            if nums[0] == val:\n",
    "                return 0\n",
    "            else:\n",
    "                return 1\n",
    "\n",
    "        while i != j:\n",
    "            if nums[i] == val:\n",
    "                if nums[j] == val:\n",
    "                    j -= 1\n",
    "                else:\n",
    "                    nums[i] = nums[j]\n",
    "                    nums[j] = val\n",
    "                    i += 1\n",
    "            else:\n",
    "                i += 1\n",
    "\n",
    "        for k in nums:\n",
    "            if k == val:\n",
    "                count += 1\n",
    "\n",
    "        return len(nums) - count"
   ]
  },
  {
   "cell_type": "markdown",
   "id": "8001a8c4",
   "metadata": {},
   "source": [
    "## Task#3\n",
    "https://leetcode.com/problems/merge-two-sorted-lists/"
   ]
  },
  {
   "cell_type": "code",
   "execution_count": null,
   "id": "01421f02",
   "metadata": {},
   "outputs": [],
   "source": [
    "# Definition for singly-linked list.\n",
    "# class ListNode:\n",
    "#     def __init__(self, val=0, next=None):\n",
    "#         self.val = val\n",
    "#         self.next = next\n",
    "class Solution:\n",
    "    def mergeTwoLists(self, list1: Optional[ListNode], list2: Optional[ListNode]) -> Optional[ListNode]:\n",
    "\n",
    "        head = ListNode()\n",
    "        current = head\n",
    "\n",
    "        while list1 and list2:\n",
    "            if list1.val < list2.val:\n",
    "                current.next = list1\n",
    "                list1 = list1.next\n",
    "            else:\n",
    "                current.next = list2\n",
    "                list2 = list2.next\n",
    "\n",
    "            current = current.next\n",
    "\n",
    "        if list1:\n",
    "            current.next = list1\n",
    "            current = current.next\n",
    "        if list2:\n",
    "            current.next = list2\n",
    "            current = current.next\n",
    "\n",
    "        return head.next"
   ]
  },
  {
   "cell_type": "markdown",
   "id": "15b76ba4",
   "metadata": {},
   "source": [
    "## Task#4\n",
    "https://leetcode.com/problems/reverse-linked-list/"
   ]
  },
  {
   "cell_type": "code",
   "execution_count": null,
   "id": "ce1d15eb",
   "metadata": {},
   "outputs": [],
   "source": [
    "# Definition for singly-linked list.\n",
    "# class ListNode:\n",
    "#     def __init__(self, val=0, next=None):\n",
    "#         self.val = val\n",
    "#         self.next = next\n",
    "class Solution:\n",
    "    def reverseList(self, head: Optional[ListNode]) -> Optional[ListNode]:\n",
    "\n",
    "        mylist = []\n",
    "\n",
    "        current = head\n",
    "\n",
    "        if current:\n",
    "            while current:\n",
    "                mylist.append(current.val)\n",
    "                current = current.next\n",
    "        else:\n",
    "            return head\n",
    "\n",
    "        current = head\n",
    "\n",
    "        i = 1\n",
    "        while current:\n",
    "            current.val = mylist[len(mylist) - i]\n",
    "            i += 1\n",
    "            current = current.next\n",
    "        return head\n",
    "\n",
    "        "
   ]
  },
  {
   "cell_type": "markdown",
   "id": "2675916a",
   "metadata": {},
   "source": [
    "## Task#5\n",
    "https://leetcode.com/problems/convert-binary-number-in-a-linked-list-to-integer/"
   ]
  },
  {
   "cell_type": "code",
   "execution_count": null,
   "id": "fe2f5c4e",
   "metadata": {},
   "outputs": [],
   "source": [
    "# Definition for singly-linked list.\n",
    "# class ListNode:\n",
    "#     def __init__(self, val=0, next=None):\n",
    "#         self.val = val\n",
    "#         self.next = next\n",
    "class Solution:\n",
    "    def getDecimalValue(self, head: ListNode) -> int:\n",
    "\n",
    "        current = head\n",
    "        mystr = ''\n",
    "\n",
    "        while current:\n",
    "            mystr = mystr + str(current.val)\n",
    "            current = current.next\n",
    "        \n",
    "        return int(mystr, 2)"
   ]
  },
  {
   "cell_type": "markdown",
   "id": "08f8aa8c",
   "metadata": {},
   "source": [
    "## Task#6\n",
    "https://leetcode.com/problems/merge-nodes-in-between-zeros/"
   ]
  },
  {
   "cell_type": "code",
   "execution_count": 4,
   "id": "369116f3",
   "metadata": {},
   "outputs": [],
   "source": [
    "# Definition for singly-linked list.\n",
    "# class ListNode:\n",
    "#     def __init__(self, val=0, next=None):\n",
    "#         self.val = val\n",
    "#         self.next = next\n",
    "class Solution:\n",
    "    def mergeNodes(self, head: Optional[ListNode]) -> Optional[ListNode]:\n",
    "        \n",
    "        sum = 0\n",
    "        head = head.next\n",
    "        current = head\n",
    "        way = head\n",
    "\n",
    "        while current:\n",
    "            if current.val != 0:\n",
    "                sum = sum + current.val\n",
    "                #current = current.next\n",
    "            else:\n",
    "                current.val = sum\n",
    "                sum = 0\n",
    "                #current = current.next\n",
    "                way.next = current\n",
    "                way = way.next\n",
    "            \n",
    "            current = current.next\n",
    "\n",
    "        return head.next\n"
   ]
  },
  {
   "cell_type": "markdown",
   "id": "bbbdd331",
   "metadata": {},
   "source": [
    "## Task#7\n",
    "https://leetcode.com/problems/middle-of-the-linked-list/"
   ]
  },
  {
   "cell_type": "code",
   "execution_count": 5,
   "id": "f740c2b4",
   "metadata": {},
   "outputs": [],
   "source": [
    "# Definition for singly-linked list.\n",
    "# class ListNode:\n",
    "#     def __init__(self, val=0, next=None):\n",
    "#         self.val = val\n",
    "#         self.next = next\n",
    "import math\n",
    "class Solution:\n",
    "    def middleNode(self, head: Optional[ListNode]) -> Optional[ListNode]:\n",
    "        \n",
    "        current = head\n",
    "        count = 0\n",
    "        i = 0\n",
    "\n",
    "        while current:\n",
    "            count += 1\n",
    "            current = current.next\n",
    "\n",
    "        while i != int(count/2):\n",
    "            head = head.next\n",
    "            i += 1\n",
    "        return head\n"
   ]
  },
  {
   "cell_type": "markdown",
   "id": "773a33b3",
   "metadata": {},
   "source": [
    "## Task#8\n",
    "https://leetcode.com/problems/intersection-of-two-linked-lists/"
   ]
  },
  {
   "cell_type": "code",
   "execution_count": null,
   "id": "72243f2d",
   "metadata": {},
   "outputs": [],
   "source": [
    "# Definition for singly-linked list.\n",
    "# class ListNode:\n",
    "#     def __init__(self, x):\n",
    "#         self.val = x\n",
    "#         self.next = None\n",
    "\n",
    "class Solution:\n",
    "    def getIntersectionNode(self, headA: ListNode, headB: ListNode) -> Optional[ListNode]:\n",
    "        \n",
    "        currentA = headA\n",
    "        currentB = headB\n",
    "        \n",
    "        lenA = 0\n",
    "        lenB = 0\n",
    "        diflen = 0\n",
    "\n",
    "        while currentA:\n",
    "            lenA += 1\n",
    "            currentA = currentA.next\n",
    "\n",
    "        while currentB:\n",
    "            lenB += 1\n",
    "            currentB = currentB.next\n",
    "\n",
    "        if lenA > lenB:\n",
    "            diflen = lenA - lenB\n",
    "            for i in range(diflen):\n",
    "                headA = headA.next\n",
    "        else:\n",
    "            diflen = lenB - lenA\n",
    "            for i in range(diflen):\n",
    "                headB = headB.next\n",
    "\n",
    "        newcurA = headA\n",
    "        newcurB = headB\n",
    "\n",
    "        while newcurA or newcurB:\n",
    "            if newcurA == newcurB:\n",
    "                return newcurA\n",
    "            else:\n",
    "                newcurA = newcurA.next\n",
    "                newcurB = newcurB.next\n",
    "        return None\n",
    "\n",
    "        "
   ]
  },
  {
   "cell_type": "markdown",
   "id": "3dc3139e",
   "metadata": {},
   "source": [
    "## Task#9\n",
    "https://leetcode.com/problems/remove-linked-list-elements/"
   ]
  },
  {
   "cell_type": "code",
   "execution_count": null,
   "id": "4a70c396",
   "metadata": {},
   "outputs": [],
   "source": [
    "# Definition for singly-linked list.\n",
    "# class ListNode:\n",
    "#     def __init__(self, val=0, next=None):\n",
    "#         self.val = val\n",
    "#         self.next = next\n",
    "class Solution:\n",
    "    def removeElements(self, head: Optional[ListNode], val: int) -> Optional[ListNode]:\n",
    "    \n",
    "        \n",
    "        while head:\n",
    "            if head.val == val:\n",
    "                head = head.next\n",
    "            else:\n",
    "                break\n",
    "        if head == None:\n",
    "            return head\n",
    "\n",
    "        current = head\n",
    "\n",
    "        while current:\n",
    "            if current.next and current.next.val == val:\n",
    "                current.next = current.next.next\n",
    "            else:    \n",
    "                current = current.next\n",
    "\n",
    "        return head\n"
   ]
  },
  {
   "cell_type": "markdown",
   "id": "3940848f",
   "metadata": {},
   "source": [
    "## Task#10\n",
    "https://leetcode.com/problems/palindrome-linked-list/"
   ]
  },
  {
   "cell_type": "code",
   "execution_count": null,
   "id": "e40ed77c",
   "metadata": {},
   "outputs": [],
   "source": [
    "# Definition for singly-linked list.\n",
    "# class ListNode:\n",
    "#     def __init__(self, val=0, next=None):\n",
    "#         self.val = val\n",
    "#         self.next = next\n",
    "class Solution:\n",
    "    def isPalindrome(self, head: Optional[ListNode]) -> bool:\n",
    "\n",
    "        current = head\n",
    "        mylist = []\n",
    "\n",
    "        while current:\n",
    "            mylist.append(current.val)\n",
    "            current = current.next\n",
    "        \n",
    "        if mylist == mylist[::-1]:\n",
    "            return True\n",
    "        return False"
   ]
  }
 ],
 "metadata": {
  "kernelspec": {
   "display_name": "Python 3 (ipykernel)",
   "language": "python",
   "name": "python3"
  },
  "language_info": {
   "codemirror_mode": {
    "name": "ipython",
    "version": 3
   },
   "file_extension": ".py",
   "mimetype": "text/x-python",
   "name": "python",
   "nbconvert_exporter": "python",
   "pygments_lexer": "ipython3",
   "version": "3.9.13"
  }
 },
 "nbformat": 4,
 "nbformat_minor": 5
}
