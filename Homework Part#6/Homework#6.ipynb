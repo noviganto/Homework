{
 "cells": [
  {
   "cell_type": "markdown",
   "id": "e2c208b2",
   "metadata": {},
   "source": [
    "# Двусвязанный список"
   ]
  },
  {
   "cell_type": "code",
   "execution_count": 1,
   "id": "9f7da249",
   "metadata": {},
   "outputs": [],
   "source": [
    "class DLNode:\n",
    "    def __init__(self, val = 0, prev=None, next=None):\n",
    "        self.val = val\n",
    "        self.next = next\n",
    "        self.prev = prev"
   ]
  },
  {
   "cell_type": "markdown",
   "id": "39b777ee",
   "metadata": {},
   "source": [
    "## Task#1\n",
    "Реализуйте и оттестируйте функции:\n",
    "1. формирующие из списка [a_1,a_2,...a_n] двусвязанный список с сответствующими значениями"
   ]
  },
  {
   "cell_type": "code",
   "execution_count": 2,
   "id": "914b6e87",
   "metadata": {},
   "outputs": [],
   "source": [
    "def create_doubly_linked_list(numbers: list) -> DLNode:\n",
    "# (╯°□°）╯︵ ┻━┻: your code here\n",
    "    \n",
    "    head = DLNode()\n",
    "    tail = head\n",
    "    \n",
    "    head.prev = None\n",
    "    tail.next = None\n",
    "    \n",
    "    cur = head\n",
    "    way = DLNode()\n",
    "    \n",
    "    for el in numbers:\n",
    "        cur.next = DLNode()\n",
    "        cur.next.val = el\n",
    "        way.next = cur\n",
    "        cur = cur.next\n",
    "        way = way.next\n",
    "        cur.prev = way\n",
    "\n",
    "    head.val = '#'\n",
    "    return head"
   ]
  },
  {
   "cell_type": "code",
   "execution_count": 3,
   "id": "61d5639b",
   "metadata": {},
   "outputs": [],
   "source": [
    "main_list = ['п', 'р', 'и', 'в', 'е', 'т']\n",
    "doubly_linked_list = create_doubly_linked_list(main_list)"
   ]
  },
  {
   "cell_type": "markdown",
   "id": "0594081e",
   "metadata": {},
   "source": [
    "## Task#2\n",
    "2. формирующие из двусвязанного списка list c соответстующими значениями [a_1,a_2,...a_n]"
   ]
  },
  {
   "cell_type": "code",
   "execution_count": 4,
   "id": "d8508e40",
   "metadata": {},
   "outputs": [],
   "source": [
    "def get_values_from_doubly_linked_list(head: DLNode) -> list:\n",
    "    \n",
    "    my_list = []\n",
    "    \n",
    "    cur = head.next\n",
    "    while cur:\n",
    "        my_list.append(cur.val)\n",
    "        cur = cur.next\n",
    "        \n",
    "    #print(my_list)\n",
    "    return my_list\n",
    "        \n",
    "    "
   ]
  },
  {
   "cell_type": "code",
   "execution_count": 5,
   "id": "747adf4a",
   "metadata": {},
   "outputs": [
    {
     "data": {
      "text/plain": [
       "['п', 'р', 'и', 'в', 'е', 'т']"
      ]
     },
     "execution_count": 5,
     "metadata": {},
     "output_type": "execute_result"
    }
   ],
   "source": [
    "get_values_from_doubly_linked_list(doubly_linked_list)"
   ]
  },
  {
   "cell_type": "markdown",
   "id": "afdfa3bf",
   "metadata": {},
   "source": [
    "## Task#3\n",
    "3. функцию удаляющую нод по порядковому номеру (возвращает нод)"
   ]
  },
  {
   "cell_type": "code",
   "execution_count": 6,
   "id": "ea6aa642",
   "metadata": {},
   "outputs": [],
   "source": [
    "def remove_node(head: DLNode, nodenum: int) -> DLNode:\n",
    "# (ノ・∀・)ノ: your code here\n",
    "        \n",
    "    ansnode = DLNode()\n",
    "    \n",
    "    count = 0\n",
    "    \n",
    "    way = head\n",
    "    cur = head.next\n",
    "    \n",
    "    while cur:\n",
    "        if count == nodenum:\n",
    "            ansnode = cur\n",
    "            way.next = cur.next\n",
    "            cur.next.prev = way\n",
    "            way = way.next\n",
    "                \n",
    "            return ansnode.val\n",
    "        \n",
    "        else:\n",
    "            cur = cur.next\n",
    "            way = way.next\n",
    "            count += 1\n",
    "            "
   ]
  },
  {
   "cell_type": "code",
   "execution_count": 7,
   "id": "ac4474e4",
   "metadata": {},
   "outputs": [
    {
     "data": {
      "text/plain": [
       "'в'"
      ]
     },
     "execution_count": 7,
     "metadata": {},
     "output_type": "execute_result"
    }
   ],
   "source": [
    "number_del = 3\n",
    "remove_node(doubly_linked_list, number_del)"
   ]
  },
  {
   "cell_type": "code",
   "execution_count": 8,
   "id": "7dcb9405",
   "metadata": {},
   "outputs": [
    {
     "data": {
      "text/plain": [
       "['п', 'р', 'и', 'е', 'т']"
      ]
     },
     "execution_count": 8,
     "metadata": {},
     "output_type": "execute_result"
    }
   ],
   "source": [
    "get_values_from_doubly_linked_list(doubly_linked_list)"
   ]
  },
  {
   "cell_type": "markdown",
   "id": "df01f89b",
   "metadata": {},
   "source": [
    "## Task#4\n",
    "4. функцию добавляющую нод по порядковому номеру"
   ]
  },
  {
   "cell_type": "code",
   "execution_count": 9,
   "id": "f63189ab",
   "metadata": {},
   "outputs": [],
   "source": [
    "def add_node(head: DLNode, nodenum: int) -> DLNode:\n",
    "# ＼（Ｔ∇Ｔ）／: your code here\n",
    "    \n",
    "    add_node = DLNode('|')\n",
    "    \n",
    "    count = 0\n",
    "    \n",
    "    way = head\n",
    "    cur = head.next\n",
    "    \n",
    "    while cur:\n",
    "        if count == nodenum:\n",
    "            way.next = add_node\n",
    "            add_node.prev = way\n",
    "            way = way.next\n",
    "            \n",
    "            add_node.next = cur\n",
    "            cur.prev = add_node\n",
    "            \n",
    "            way.prev = cur\n",
    "                \n",
    "            return head\n",
    "        else:\n",
    "            cur = cur.next\n",
    "            way = way.next\n",
    "            count += 1\n",
    "    if count == nodenum:\n",
    "        way.next = add_node\n",
    "        cur = add_node\n",
    "        cur.prev = way"
   ]
  },
  {
   "cell_type": "code",
   "execution_count": 10,
   "id": "5d5a306b",
   "metadata": {},
   "outputs": [
    {
     "data": {
      "text/plain": [
       "<__main__.DLNode at 0x2ab96800400>"
      ]
     },
     "execution_count": 10,
     "metadata": {},
     "output_type": "execute_result"
    }
   ],
   "source": [
    "add_node(doubly_linked_list, 0)"
   ]
  },
  {
   "cell_type": "code",
   "execution_count": 11,
   "id": "a1a3a5c9",
   "metadata": {},
   "outputs": [
    {
     "data": {
      "text/plain": [
       "['|', 'п', 'р', 'и', 'е', 'т']"
      ]
     },
     "execution_count": 11,
     "metadata": {},
     "output_type": "execute_result"
    }
   ],
   "source": [
    "get_values_from_doubly_linked_list(doubly_linked_list)"
   ]
  },
  {
   "cell_type": "markdown",
   "id": "cf73d069",
   "metadata": {},
   "source": [
    "## Task#5\n",
    "5. функцию разворачивающую список"
   ]
  },
  {
   "cell_type": "code",
   "execution_count": 12,
   "id": "3cdcec29",
   "metadata": {},
   "outputs": [],
   "source": [
    "def inverse_list(head: DLNode) -> DLNode:\n",
    "# (´へωへ`*): your code here\n",
    "    head = head.next\n",
    "    head.prev = None\n",
    "\n",
    "    cur = head.next\n",
    "    way = head\n",
    "    head.next = None\n",
    "    \n",
    "    while cur:\n",
    "        way.prev = cur\n",
    "        way = way.prev\n",
    "        cur = cur.next\n",
    "        way.next = head\n",
    "        head = way\n",
    "\n",
    "    head = DLNode('#')\n",
    "    way.prev = head\n",
    "    head.next = way\n",
    "    \n",
    "    return head\n"
   ]
  },
  {
   "cell_type": "code",
   "execution_count": 13,
   "id": "c0efbf75",
   "metadata": {},
   "outputs": [
    {
     "data": {
      "text/plain": [
       "['т', 'е', 'и', 'р', 'п', '|']"
      ]
     },
     "execution_count": 13,
     "metadata": {},
     "output_type": "execute_result"
    }
   ],
   "source": [
    "#main_list = ['п', 'р', 'и', 'в', 'е', 'т']\n",
    "#doubly_linked_list = create_doubly_linked_list(main_list)\n",
    "doubly_linked_list = inverse_list(doubly_linked_list)\n",
    "get_values_from_doubly_linked_list(doubly_linked_list)"
   ]
  },
  {
   "cell_type": "markdown",
   "id": "1fda9be7",
   "metadata": {},
   "source": [
    "# Стек"
   ]
  },
  {
   "cell_type": "markdown",
   "id": "b8676bdb",
   "metadata": {},
   "source": [
    "### 6. 20. Valid Parentheses\n",
    "https://leetcode.com/problems/valid-parentheses/"
   ]
  },
  {
   "cell_type": "code",
   "execution_count": 27,
   "id": "601c562a",
   "metadata": {},
   "outputs": [],
   "source": [
    "class Solution:\n",
    "    def isValid(self, s: str) -> bool:\n",
    "        d = {'(': ')', '{': '}', '[': ']'}\n",
    "        stack = []\n",
    "\n",
    "        for i in range(len(s)):\n",
    "            if s[i] in d:\n",
    "                stack.append(s[i])\n",
    "            else:\n",
    "                if len(stack) == 0 or s[i] != d[stack.pop()]:\n",
    "                    return False\n",
    "        return len(stack) == 0"
   ]
  },
  {
   "cell_type": "markdown",
   "id": "a2a74d52",
   "metadata": {},
   "source": [
    "### 7. 1614. Maximum Nesting Depth of the Parentheses\n",
    "https://leetcode.com/problems/maximum-nesting-depth-of-the-parentheses/description/"
   ]
  },
  {
   "cell_type": "code",
   "execution_count": null,
   "id": "d360069b",
   "metadata": {},
   "outputs": [],
   "source": [
    "class Solution:\n",
    "    def maxDepth(self, s: str) -> int:\n",
    "\n",
    "        stack = []\n",
    "        maxim = 0\n",
    "\n",
    "        for ch in s:\n",
    "            if ch is \"(\":\n",
    "                stack.append(ch)\n",
    "                if len(stack) > maxim:\n",
    "                    maxim = len(stack)\n",
    "            elif ch is \")\":\n",
    "                stack.pop()\n",
    "                \n",
    "        return maxim\n",
    "                \n"
   ]
  },
  {
   "cell_type": "markdown",
   "id": "21bf39c2",
   "metadata": {},
   "source": [
    "### 8. 155. Min Stack\n",
    "https://leetcode.com/problems/min-stack/"
   ]
  },
  {
   "cell_type": "code",
   "execution_count": 83,
   "id": "13e90e45",
   "metadata": {},
   "outputs": [],
   "source": [
    "class MinStack:\n",
    "\n",
    "    def __init__(self):\n",
    "\n",
    "        self.stack = []\n",
    "        self.minim = []\n",
    "\n",
    "    def push(self, val: int) -> None:\n",
    "        if len(self.stack) == 0:\n",
    "            self.minim.append(val)\n",
    "        else:\n",
    "            if val <= self.minim[-1]:\n",
    "                self.minim.append(val)\n",
    "\n",
    "        self.stack.append(val)\n",
    "\n",
    "    def pop(self) -> None:\n",
    "        buff = self.stack.pop()\n",
    "\n",
    "        if buff == self.minim[-1]:\n",
    "            self.minim.pop()\n",
    "        \n",
    "    def top(self) -> int:\n",
    "        return self.stack[-1]\n",
    "\n",
    "    def getMin(self) -> int:\n",
    "        return self.minim[-1]\n",
    "        \n",
    "\n",
    "\n",
    "# Your MinStack object will be instantiated and called as such:\n",
    "# obj = MinStack()\n",
    "# obj.push(val)\n",
    "# obj.pop()\n",
    "# param_3 = obj.top()\n",
    "# param_4 = obj.getMin()"
   ]
  },
  {
   "cell_type": "markdown",
   "id": "913321d1",
   "metadata": {},
   "source": [
    "### 9. 1021. Remove Outermost Parentheses\n",
    "https://leetcode.com/problems/remove-outermost-parentheses/"
   ]
  },
  {
   "cell_type": "code",
   "execution_count": 10,
   "id": "b838cf0f",
   "metadata": {},
   "outputs": [],
   "source": [
    "class Solution:\n",
    "    def removeOuterParentheses(self, s: str) -> str:\n",
    "        \n",
    "        stack = []\n",
    "        countL = 0\n",
    "        countR = 0\n",
    "\n",
    "        for ch in s:\n",
    "            stack.append(ch)\n",
    "            \n",
    "            if ch == '(':\n",
    "                countL += 1\n",
    "                if countL == 0 or countR == 0:\n",
    "                    stack.pop()\n",
    "                countR += 1\n",
    "\n",
    "            else:\n",
    "                countL -= 1\n",
    "                if countL == 0 or countR == 0:\n",
    "                    stack.pop()\n",
    "                countR -= 1\n",
    "\n",
    "        return ''.join(stack)\n",
    "        \n"
   ]
  },
  {
   "cell_type": "markdown",
   "id": "567268bd",
   "metadata": {},
   "source": [
    "### 10. 1047. Remove All Adjacent Duplicates In String\n",
    "https://leetcode.com/problems/remove-all-adjacent-duplicates-in-string/"
   ]
  },
  {
   "cell_type": "code",
   "execution_count": null,
   "id": "95618589",
   "metadata": {},
   "outputs": [],
   "source": [
    "class Solution:\n",
    "    def removeDuplicates(self, s: str) -> str:\n",
    "        stack = []\n",
    "\n",
    "        for i in range(len(s)):\n",
    "            if len(stack) == 0 or stack[-1] != s[i]:\n",
    "                stack.append(s[i])\n",
    "            else:\n",
    "                stack.pop()\n",
    "\n",
    "        return ''.join(stack)"
   ]
  },
  {
   "cell_type": "markdown",
   "id": "97c7ad89",
   "metadata": {},
   "source": [
    "### 11. 1544. Make The String Great\n",
    "https://leetcode.com/problems/make-the-string-great/"
   ]
  },
  {
   "cell_type": "code",
   "execution_count": 56,
   "id": "07d9080e",
   "metadata": {},
   "outputs": [],
   "source": [
    "class Solution:\n",
    "    def makeGood(self, s: str) -> str:\n",
    "\n",
    "        stack = []\n",
    "\n",
    "        for i in range(len(s)):\n",
    "            if len(stack) != 0 and (stack[-1].upper() == s[i] and stack[-1] != s[i].upper()):\n",
    "                stack.pop()\n",
    "            elif len(stack) != 0 and (stack[-1].upper() != s[i] and stack[-1] == s[i].upper()):\n",
    "                stack.pop()\n",
    "            else:\n",
    "                stack.append(s[i])\n",
    "        \n",
    "        return ''.join(stack)"
   ]
  },
  {
   "cell_type": "markdown",
   "id": "efef92da",
   "metadata": {},
   "source": [
    "# Яндекс"
   ]
  },
  {
   "cell_type": "markdown",
   "id": "c8757e74",
   "metadata": {},
   "source": [
    "## 3.1. Строки, кортежи, списки"
   ]
  },
  {
   "cell_type": "markdown",
   "id": "d6246a2e",
   "metadata": {},
   "source": [
    "### Task K \n",
    "https://new.contest.yandex.ru/41237/problem?id=149944/2022_10_13/pKCFLSCyj7"
   ]
  },
  {
   "cell_type": "code",
   "execution_count": null,
   "id": "7d35a316",
   "metadata": {},
   "outputs": [],
   "source": [
    "N = int(input())\n",
    "str_list = []\n",
    "for i in range(N):\n",
    "    str_list.append(input())\n",
    "\n",
    "main_str = input()\n",
    "\n",
    "for i in range(len(str_list)):\n",
    "    if main_str.lower() in str_list[i].lower():\n",
    "        print(str_list[i])\n",
    "\n",
    "    "
   ]
  },
  {
   "cell_type": "markdown",
   "id": "5ee6f1ff",
   "metadata": {},
   "source": [
    "### Task L\n",
    "https://new.contest.yandex.ru/41237/problem?id=149944/2022_10_13/8Ymb2732go"
   ]
  },
  {
   "cell_type": "code",
   "execution_count": null,
   "id": "0e8c1393",
   "metadata": {},
   "outputs": [],
   "source": [
    "kashi = ['Манная', 'Гречневая', 'Пшённая', 'Овсяная', 'Рисовая']\n",
    "\n",
    "N = int(input())\n",
    "count = 0\n",
    "\n",
    "for i in range(N):\n",
    "    if i + count == len(kashi):\n",
    "        count = - i\n",
    "    print(kashi[i + count])"
   ]
  },
  {
   "cell_type": "markdown",
   "id": "ffccdd65",
   "metadata": {},
   "source": [
    "### Task M\n",
    "https://new.contest.yandex.ru/41237/problem?id=149944/2022_10_13/YOO7ZFJH4A"
   ]
  },
  {
   "cell_type": "code",
   "execution_count": null,
   "id": "211e6f97",
   "metadata": {},
   "outputs": [],
   "source": [
    "N = int(input())\n",
    "mylist = []\n",
    "\n",
    "for i in range(N):\n",
    "    mylist.append(int(input()))\n",
    "\n",
    "P = int(input())\n",
    "for i in range(len(mylist)):\n",
    "    print(mylist[i]**P)"
   ]
  },
  {
   "cell_type": "markdown",
   "id": "1fd8d30c",
   "metadata": {},
   "source": [
    "### Task N\n",
    "https://new.contest.yandex.ru/41237/problem?id=149944/2022_10_13/5vjFLZ1M9w"
   ]
  },
  {
   "cell_type": "code",
   "execution_count": null,
   "id": "d475e352",
   "metadata": {},
   "outputs": [],
   "source": [
    "st = input().split()\n",
    "N = int(input())\n",
    "print(' '.join(str(int(x)**N) for x in st))\n"
   ]
  },
  {
   "cell_type": "markdown",
   "id": "3e2a493a",
   "metadata": {},
   "source": [
    "### Task O\n",
    "https://new.contest.yandex.ru/41237/problem?id=149944/2022_10_13/cXCfPpVk3a"
   ]
  },
  {
   "cell_type": "code",
   "execution_count": null,
   "id": "4d3e5ecd",
   "metadata": {},
   "outputs": [],
   "source": [
    "st = input().split()\n",
    "\n",
    "first = int(st[0])\n",
    "for i in range(1, len(st)):\n",
    "    while first != 0 and int(st[i]) != 0:\n",
    "        if first >= int(st[i]):\n",
    "            first %= int(st[i])\n",
    "        else:\n",
    "            st[i] = int(st[i]) % first\n",
    "\n",
    "    ans = first or int(st[i])\n",
    "    first = ans\n",
    "\n",
    "print(first)"
   ]
  },
  {
   "cell_type": "markdown",
   "id": "ae78a160",
   "metadata": {},
   "source": [
    "### Task P\n",
    "https://new.contest.yandex.ru/41237/problem?id=149944/2022_10_13/LGkorFrReo"
   ]
  },
  {
   "cell_type": "code",
   "execution_count": null,
   "id": "3b161dc7",
   "metadata": {},
   "outputs": [],
   "source": [
    "L = int(input())\n",
    "N = int(input())\n",
    "list_str = []\n",
    "sum_len = 0\n",
    "prev_sum = 0\n",
    "\n",
    "flag = False\n",
    "\n",
    "for i in range(N):\n",
    "    list_str.append(input())\n",
    "    if flag is False:\n",
    "        sum_len += len(list_str[i])\n",
    "    if sum_len >= L - 3 and flag is False:\n",
    "        N = i\n",
    "        flag = True\n",
    "    if flag is False:\n",
    "        prev_sum += len(list_str[i])\n",
    "    \n",
    "\n",
    "list_str[N] = list_str[N][:L - prev_sum - 3] + '...'\n",
    "\n",
    "for i in range(N + 1):\n",
    "    print(list_str[i]) \n"
   ]
  },
  {
   "cell_type": "markdown",
   "id": "d7c02867",
   "metadata": {},
   "source": [
    "### Task Q\n",
    "https://new.contest.yandex.ru/41237/problem?id=149944/2022_10_13/zto47acz4L"
   ]
  },
  {
   "cell_type": "code",
   "execution_count": null,
   "id": "8820797b",
   "metadata": {},
   "outputs": [],
   "source": [
    "st = ''.join(input().lower().split())\n",
    "\n",
    "if st == st[::-1]:\n",
    "    print('YES')\n",
    "else:\n",
    "    print('NO')"
   ]
  },
  {
   "cell_type": "markdown",
   "id": "c26b60b6",
   "metadata": {},
   "source": [
    "### Task R\n",
    "https://new.contest.yandex.ru/41237/problem?id=149944/2022_10_13/R3wYYWsSR8"
   ]
  },
  {
   "cell_type": "code",
   "execution_count": null,
   "id": "55679bd8",
   "metadata": {},
   "outputs": [],
   "source": [
    "st = input()\n",
    "count = 0\n",
    "buff = st[0]\n",
    "mylist = []\n",
    "\n",
    "for ch in st:\n",
    "    if ch == buff:\n",
    "        count += 1\n",
    "    else:\n",
    "        mylist.append(buff + ' ' + str(count))\n",
    "        count = 1\n",
    "        buff = ch\n",
    "mylist.append(buff + ' ' + str(count))\n",
    "\n",
    "for el in mylist:\n",
    "    print(el)"
   ]
  },
  {
   "cell_type": "markdown",
   "id": "b2f11dde",
   "metadata": {},
   "source": [
    "### Task S\n",
    "https://new.contest.yandex.ru/41237/problem?id=149944/2022_10_13/DnuaPWomud"
   ]
  },
  {
   "cell_type": "code",
   "execution_count": null,
   "id": "0d164fbb",
   "metadata": {},
   "outputs": [],
   "source": [
    "stack = input().split()\n",
    "current = []\n",
    "i = 0\n",
    "sign = ''\n",
    "\n",
    "while len(stack) != 1:\n",
    "    if stack[i + 1].isdigit() is not True:\n",
    "        current.append(stack[i])\n",
    "        del stack[i]\n",
    "        sign = stack[i]\n",
    "        del stack[i]\n",
    "        i -= 1\n",
    "        current.append(stack[i])\n",
    "\n",
    "        if sign == '+':\n",
    "            stack[i] = int(current[1]) + int(current[0])\n",
    "        elif sign == '-':\n",
    "            stack[i] = int(current[1]) - int(current[0])\n",
    "        elif sign == '*':\n",
    "            stack[i] = int(current[1]) * int(current[0])\n",
    "        current = []\n",
    "\n",
    "    else:\n",
    "        i += 1\n",
    "        \n",
    "print(stack[0])\n"
   ]
  },
  {
   "cell_type": "markdown",
   "id": "d7c2a027",
   "metadata": {},
   "source": [
    "### Task T\n",
    "https://new.contest.yandex.ru/41237/problem?id=149944/2022_10_13/WkFwiZon9Q"
   ]
  },
  {
   "cell_type": "code",
   "execution_count": null,
   "id": "3d37ff9e",
   "metadata": {},
   "outputs": [],
   "source": [
    "stack = input().split()\n",
    "current = []\n",
    "i = 0\n",
    "sign = ''\n",
    "\n",
    "while len(stack) != 1:\n",
    "    if stack[i + 1].isdigit() is not True:\n",
    "        i += 1\n",
    "        sign = stack[i]\n",
    "        del stack[i]\n",
    "        i -= 1\n",
    "        \n",
    "        if sign == '@':\n",
    "            buff = stack[i]\n",
    "            stack[i] = stack[i - 2]\n",
    "            stack[i - 2] = stack[i - 1]\n",
    "            stack[i - 1] = buff\n",
    "\n",
    "        else:\n",
    "            current.append(stack[i])\n",
    "\n",
    "            if sign == '~':\n",
    "                stack[i] = - int(current[0])\n",
    "            elif sign == '!':\n",
    "                stack[i] = 1\n",
    "                for j in range(1, int(current[0]) + 1):\n",
    "                    stack[i] = stack[i] * j\n",
    "            elif sign == '#':\n",
    "                stack.insert(i, stack[i])\n",
    "                i += 1\n",
    "            else:\n",
    "                del stack[i]\n",
    "                i -= 1\n",
    "                current.append(stack[i])\n",
    "                if sign == '+':\n",
    "                    stack[i] = int(current[1]) + int(current[0])\n",
    "                elif sign == '-':\n",
    "                    stack[i] = int(current[1]) - int(current[0])\n",
    "                elif sign == '*':\n",
    "                    stack[i] = int(current[1]) * int(current[0])\n",
    "                elif sign == '/':\n",
    "                    stack[i] = int(current[1]) // int(current[0])\n",
    "        \n",
    "        current = []\n",
    "\n",
    "    else:\n",
    "        i += 1\n",
    "        \n",
    "print(stack[0])\n"
   ]
  }
 ],
 "metadata": {
  "kernelspec": {
   "display_name": "Python 3 (ipykernel)",
   "language": "python",
   "name": "python3"
  },
  "language_info": {
   "codemirror_mode": {
    "name": "ipython",
    "version": 3
   },
   "file_extension": ".py",
   "mimetype": "text/x-python",
   "name": "python",
   "nbconvert_exporter": "python",
   "pygments_lexer": "ipython3",
   "version": "3.9.13"
  }
 },
 "nbformat": 4,
 "nbformat_minor": 5
}
